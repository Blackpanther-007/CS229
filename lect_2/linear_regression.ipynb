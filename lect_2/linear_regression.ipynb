{
  "cells": [
    {
      "cell_type": "markdown",
      "metadata": {
        "id": "view-in-github",
        "colab_type": "text"
      },
      "source": [
        "<a href=\"https://colab.research.google.com/github/Blackpanther-007/CS229/blob/main/lect_2/linear_regression.ipynb\" target=\"_parent\"><img src=\"https://colab.research.google.com/assets/colab-badge.svg\" alt=\"Open In Colab\"/></a>"
      ]
    },
    {
      "cell_type": "code",
      "execution_count": null,
      "id": "9f192310",
      "metadata": {
        "id": "9f192310"
      },
      "outputs": [],
      "source": [
        "import numpy as np\n",
        "import matplotlib.pyplot as plt"
      ]
    },
    {
      "cell_type": "markdown",
      "id": "7ed1ffa5",
      "metadata": {
        "id": "7ed1ffa5"
      },
      "source": [
        "### Synthetic data"
      ]
    },
    {
      "cell_type": "code",
      "execution_count": null,
      "id": "f2cd9448",
      "metadata": {
        "id": "f2cd9448"
      },
      "outputs": [],
      "source": [
        "np.random.seed(0)\n",
        "X = np.random.rand(100, 1) * 10  # Feature: x\n",
        "y = 3 * X.squeeze() + 7 + np.random.randn(100) * 2  # Target: y with noise\n",
        "y.shape\n",
        "plt.scatter(X, y)\n",
        "plt.title(\"Synthetic Linear Data\")\n",
        "plt.xlabel(\"X\")\n",
        "plt.ylabel(\"y\")\n",
        "plt.show()"
      ]
    },
    {
      "cell_type": "code",
      "source": [
        "m = 2\n",
        "theta = [0, 0]\n",
        "H = theta[0] + (theta[1]* X)\n",
        "rate = 0.01\n",
        "grad = np.sum(H - y)/m"
      ],
      "metadata": {
        "id": "RXJOLUAzLb-c"
      },
      "id": "RXJOLUAzLb-c",
      "execution_count": null,
      "outputs": []
    },
    {
      "cell_type": "markdown",
      "id": "ef1bcb9c",
      "metadata": {
        "id": "ef1bcb9c"
      },
      "source": [
        "#### Cost function"
      ]
    },
    {
      "cell_type": "code",
      "execution_count": null,
      "id": "1732d066",
      "metadata": {
        "id": "1732d066"
      },
      "outputs": [],
      "source": [
        "def Compute_cost(X, y, theta):\n",
        "    m = y.shape\n",
        "    H = np.dot(theta, X)\n",
        "    j = np.sum(np.square(H - y))/(2*m)\n",
        "    return j"
      ]
    },
    {
      "cell_type": "code",
      "source": [
        "def gradient_descent(X, y, theta, alpha, num_iters):\n",
        "  cost = []\n",
        "  i = num_iters\n",
        "  while(i > 0):\n",
        "    cost[num_iters - i] = Compute_cost(X, y, theta)\n",
        "    i -= 1\n",
        "    for j in range(len(X)):\n",
        "      theta[j] = theta[j] - (alpha * np.sum((np.dot(theta, X)) - y)/m)\n",
        "  return theta"
      ],
      "metadata": {
        "id": "oMzmgkKZzTDa"
      },
      "id": "oMzmgkKZzTDa",
      "execution_count": null,
      "outputs": []
    },
    {
      "cell_type": "code",
      "source": [
        "def predict(X, theta):\n",
        "  return np.dot(theta, X)"
      ],
      "metadata": {
        "id": "Gr6d2AmYz8ti"
      },
      "id": "Gr6d2AmYz8ti",
      "execution_count": null,
      "outputs": []
    },
    {
      "cell_type": "code",
      "execution_count": null,
      "id": "e8d89af5",
      "metadata": {
        "id": "e8d89af5"
      },
      "outputs": [],
      "source": []
    },
    {
      "cell_type": "code",
      "source": [],
      "metadata": {
        "id": "xRdHT02Myy4K"
      },
      "id": "xRdHT02Myy4K",
      "execution_count": null,
      "outputs": []
    }
  ],
  "metadata": {
    "kernelspec": {
      "display_name": ".venv",
      "language": "python",
      "name": "python3"
    },
    "language_info": {
      "name": "python",
      "version": "3.12.3"
    },
    "colab": {
      "provenance": [],
      "include_colab_link": true
    }
  },
  "nbformat": 4,
  "nbformat_minor": 5
}