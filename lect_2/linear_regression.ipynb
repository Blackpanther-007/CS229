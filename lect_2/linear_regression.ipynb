{
  "cells": [
    {
      "cell_type": "code",
      "execution_count": null,
      "id": "9f192310",
      "metadata": {
        "id": "9f192310"
      },
      "outputs": [],
      "source": [
        "import numpy as np\n",
        "import matplotlib.pyplot as plt"
      ]
    },
    {
      "cell_type": "markdown",
      "id": "7ed1ffa5",
      "metadata": {
        "id": "7ed1ffa5"
      },
      "source": [
        "### Synthetic data"
      ]
    },
    {
      "cell_type": "code",
      "execution_count": null,
      "id": "f2cd9448",
      "metadata": {
        "id": "f2cd9448"
      },
      "outputs": [],
      "source": [
        "np.random.seed(0)\n",
        "X = np.random.rand(100, 1) * 10  # Feature: x\n",
        "y = 3 * X.squeeze() + 7 + np.random.randn(100) * 2  # Target: y with noise\n",
        "y.shape\n",
        "plt.scatter(X, y)\n",
        "plt.title(\"Synthetic Linear Data\")\n",
        "plt.xlabel(\"X\")\n",
        "plt.ylabel(\"y\")\n",
        "plt.show()"
      ]
    },
    {
      "cell_type": "code",
      "source": [
        "m = 2\n",
        "thita = [0, 0]\n",
        "H = thita[0] + (thita[1]* X)\n",
        "rate = 0.01\n",
        "grad = np.sum(H - y)/m"
      ],
      "metadata": {
        "id": "RXJOLUAzLb-c"
      },
      "id": "RXJOLUAzLb-c",
      "execution_count": null,
      "outputs": []
    },
    {
      "cell_type": "markdown",
      "id": "ef1bcb9c",
      "metadata": {
        "id": "ef1bcb9c"
      },
      "source": [
        "#### Cost function"
      ]
    },
    {
      "cell_type": "code",
      "execution_count": null,
      "id": "1732d066",
      "metadata": {
        "id": "1732d066"
      },
      "outputs": [],
      "source": [
        "def cost_funtion(H, y):\n",
        "    m = y.shape\n",
        "    j = np.sum(np.square(H - y))/(2*m)"
      ]
    },
    {
      "cell_type": "code",
      "execution_count": null,
      "id": "e8d89af5",
      "metadata": {
        "id": "e8d89af5"
      },
      "outputs": [],
      "source": [
        "while(grad >= 0.001):\n",
        "    for j in range(m):\n",
        "        thita[j] = thita[j] - (rate * grad * X[j])\n"
      ]
    }
  ],
  "metadata": {
    "kernelspec": {
      "display_name": ".venv",
      "language": "python",
      "name": "python3"
    },
    "language_info": {
      "name": "python",
      "version": "3.12.3"
    },
    "colab": {
      "provenance": []
    }
  },
  "nbformat": 4,
  "nbformat_minor": 5
}